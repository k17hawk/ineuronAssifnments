{
 "cells": [
  {
   "cell_type": "markdown",
   "id": "848f9cc2",
   "metadata": {},
   "source": [
    "1. What is the result of the code, and why?\n",
    "\n",
    "def func(a, b=6, c=8):\n",
    "    print(a, b, c)\n",
    "func(1, 2)"
   ]
  },
  {
   "cell_type": "markdown",
   "id": "d9816de5",
   "metadata": {},
   "source": [
    "The output of the code is 1 2 8 because a = 1 and b value will be replaced by 2 as c is 8 already"
   ]
  },
  {
   "cell_type": "markdown",
   "id": "18d3ccc4",
   "metadata": {},
   "source": [
    "2. What is the result of this code, and why?\n",
    "def func(a,b,c=5):\n",
    "    print(a,b,c)\n",
    "func(1,c=3,b=2)"
   ]
  },
  {
   "cell_type": "markdown",
   "id": "9dffd2b6",
   "metadata": {},
   "source": [
    "The output is 1 2 3 because a is 1 b is 2 and c value is replaced by 3"
   ]
  },
  {
   "cell_type": "markdown",
   "id": "5440b6c9",
   "metadata": {},
   "source": [
    "3. How about this code: what is its result, and why?\n",
    "def func(a, *pargs):\n",
    "    print(a,pargs)\n",
    "func(1,2,3)"
   ]
  },
  {
   "cell_type": "markdown",
   "id": "43df53b7",
   "metadata": {},
   "source": [
    "The output is 1 (2,3) because a will get the value  but since there is *pargs it takes n number of parameter we have provided two values it will be tuple  (2,3)"
   ]
  },
  {
   "cell_type": "markdown",
   "id": "1b1f01a5",
   "metadata": {},
   "source": [
    "4. What does this code print, and why?\n",
    "def func(a,**kargs):\n",
    "    print(a,kargs)\n",
    "func(a=1,c=3,b=2)"
   ]
  },
  {
   "cell_type": "markdown",
   "id": "33ced78c",
   "metadata": {},
   "source": [
    "The output of  the code is 1 {c:3,b:2} because **kargs stands for key value pair of n length of variable"
   ]
  },
  {
   "cell_type": "markdown",
   "id": "5bb1cbcb",
   "metadata": {},
   "source": [
    "5. What gets printed by this, and explain?\n",
    "def func(a,b,c=8,d=5):\n",
    "    print(a,b,c,d)\n",
    "func(1,*(5,6))"
   ]
  },
  {
   "cell_type": "markdown",
   "id": "4cacc544",
   "metadata": {},
   "source": [
    "The output is 1 5 6 5 beacuse a value is explicitly provided where b & c is taken from *(5,6) where d value is already decleared as 5"
   ]
  },
  {
   "cell_type": "markdown",
   "id": "c61ec3f8",
   "metadata": {},
   "source": [
    "6. what is the result of this, and explain?\n",
    "def func(a, b, c): a = 2; b[0] = 'x'; c['a'] = 'y'\n",
    "l=1; m=[1]; n={'a':0}\n",
    "func(l, m, n)\n",
    "l,m,n"
   ]
  },
  {
   "cell_type": "markdown",
   "id": "a51a8f50",
   "metadata": {},
   "source": [
    "The output  is 1, ['x'], {'a': 'y'}.\n",
    "When l,m,n are provided as inputs to the function. its modifies the values of l,m,n and sets the value of l=2 ,m=['x'] and n={'a':'y'}"
   ]
  },
  {
   "cell_type": "code",
   "execution_count": null,
   "id": "14595a3f",
   "metadata": {},
   "outputs": [],
   "source": []
  }
 ],
 "metadata": {
  "kernelspec": {
   "display_name": "Python 3",
   "language": "python",
   "name": "python3"
  },
  "language_info": {
   "codemirror_mode": {
    "name": "ipython",
    "version": 3
   },
   "file_extension": ".py",
   "mimetype": "text/x-python",
   "name": "python",
   "nbconvert_exporter": "python",
   "pygments_lexer": "ipython3",
   "version": "3.8.8"
  }
 },
 "nbformat": 4,
 "nbformat_minor": 5
}
