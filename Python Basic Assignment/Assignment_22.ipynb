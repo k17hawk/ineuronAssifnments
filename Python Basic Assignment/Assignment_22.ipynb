{
 "cells": [
  {
   "cell_type": "raw",
   "id": "8d18114c",
   "metadata": {},
   "source": [
    "1. What is the result of the code, and explain?\n",
    "X = 'iNeuron'\n",
    "def func():\n",
    "    print(X)  "
   ]
  },
  {
   "cell_type": "markdown",
   "id": "f511f86d",
   "metadata": {},
   "source": [
    "  It Will return ineuron because it will look for value for x which is decleared gloabbly"
   ]
  },
  {
   "cell_type": "raw",
   "id": "0a56190f",
   "metadata": {},
   "source": [
    "2) What is the result of the code, and explain?\n",
    "\n",
    "X = 'iNeuron'\n",
    "def func():\n",
    "    X = 'NI!'\n",
    "    print(X)\n",
    "func()"
   ]
  },
  {
   "cell_type": "markdown",
   "id": "02494bd0",
   "metadata": {},
   "source": [
    "func() will return NI beacuse it gets value locally"
   ]
  },
  {
   "cell_type": "raw",
   "id": "0456ca83",
   "metadata": {},
   "source": [
    "3) What does this code print, and why?\n",
    "X = 'iNeuron'\n",
    "def func():\n",
    "    X = 'NI'\n",
    "    print(X)\n",
    "func()\n",
    "print(X)\n"
   ]
  },
  {
   "cell_type": "markdown",
   "id": "5e97df64",
   "metadata": {},
   "source": [
    "first func() will return IN beause it takes values within function where X holds 'iNeuron' globally so  print(x) returns 'iNeuron' because it takes global variable"
   ]
  },
  {
   "cell_type": "raw",
   "id": "f1ae7209",
   "metadata": {},
   "source": [
    "4)  What output does this code produce? Why?\n",
    "X = 'iNeuron'\n",
    "def func():\n",
    "    global X\n",
    "    X = 'NI'\n",
    "func()\n",
    "print(X)"
   ]
  },
  {
   "cell_type": "markdown",
   "id": "84fd1e62",
   "metadata": {},
   "source": [
    "func() will return 'NI' becasue we have already decleared X as global variable,print(x) too will print 'NI beacuse as it is also take global value"
   ]
  },
  {
   "cell_type": "raw",
   "id": "48bf0c19",
   "metadata": {},
   "source": [
    "5)What about this code—what’s the output, and why?\n",
    "X = 'iNeuron'\n",
    "def func():\n",
    "    X = 'NI'\n",
    "    def nested():\n",
    "        print(X)\n",
    "    nested()\n",
    "func()\n",
    "X"
   ]
  },
  {
   "cell_type": "markdown",
   "id": "75325f4d",
   "metadata": {},
   "source": [
    "func() will get the value locally so it will return NI likewise, X get the value decleared gloablly so print iNeuron"
   ]
  },
  {
   "cell_type": "raw",
   "id": "54aef862",
   "metadata": {},
   "source": [
    "6) How about this code: what is its output in Python 3, and explain?\n",
    "def func():\n",
    "    X = 'NI'\n",
    "    def nested():\n",
    "        nonlocal X\n",
    "        X = 'Spam'\n",
    "    nested()\n",
    "    print(X)\n",
    "func()"
   ]
  },
  {
   "cell_type": "markdown",
   "id": "4c64b517",
   "metadata": {},
   "source": [
    "its output is Spam because in nested function the keyword nonlocal means not a local which now make x global and will print 'SPAM'"
   ]
  },
  {
   "cell_type": "code",
   "execution_count": null,
   "id": "798c2ef5",
   "metadata": {},
   "outputs": [],
   "source": []
  }
 ],
 "metadata": {
  "kernelspec": {
   "display_name": "Python 3",
   "language": "python",
   "name": "python3"
  },
  "language_info": {
   "codemirror_mode": {
    "name": "ipython",
    "version": 3
   },
   "file_extension": ".py",
   "mimetype": "text/x-python",
   "name": "python",
   "nbconvert_exporter": "python",
   "pygments_lexer": "ipython3",
   "version": "3.8.8"
  }
 },
 "nbformat": 4,
 "nbformat_minor": 5
}
