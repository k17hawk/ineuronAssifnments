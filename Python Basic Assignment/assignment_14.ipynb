{
 "cells": [
  {
   "cell_type": "raw",
   "id": "cc1c6fc6",
   "metadata": {},
   "source": [
    "                             Assignment_14"
   ]
  },
  {
   "cell_type": "raw",
   "id": "c714b0b5",
   "metadata": {},
   "source": [
    "1) What does RGBA stand for?\n",
    "Ans--> RGBA is a four-channel format containing data for Red, Green, Blue, and an Alpha value. Where Alpha                Represents the Opacity"
   ]
  },
  {
   "cell_type": "raw",
   "id": "fb8cfc6c",
   "metadata": {},
   "source": [
    "2)  From the Pillow module, how do you get the RGBA value of any images?\n",
    "Ans--> ImageColor.getcolor() gets the RGBA value of any images."
   ]
  },
  {
   "cell_type": "raw",
   "id": "1df96e46",
   "metadata": {},
   "source": [
    "3) What is a box tuple, and how does it work?\n",
    "Ans--> A box tuple is a tuple value of four integers: the left-edge x-coordinate, the top-edge y-coordinate,the           width, and the height, respectively."
   ]
  },
  {
   "cell_type": "raw",
   "id": "adca75e4",
   "metadata": {},
   "source": [
    "4) Use your image and load in notebook then, How can you find out the width and height of an Image object?"
   ]
  },
  {
   "cell_type": "code",
   "execution_count": 12,
   "id": "a4169989",
   "metadata": {},
   "outputs": [
    {
     "name": "stdout",
     "output_type": "stream",
     "text": [
      "Width, Height -> (1366, 768)\n",
      "Width, Height -> 1366,768\n",
      "Width, Height -> 1366,768\n"
     ]
    }
   ],
   "source": [
    "#Example \n",
    "from PIL import Image\n",
    "pic = Image.open(r'NameImage.png')\n",
    "print(f'Width, Height -> {pic.size}') \n",
    "print(f'Width, Height -> {pic.width},{pic.height}') \n",
    "width,height = pic.size\n",
    "print(f'Width, Height -> {width},{height}') "
   ]
  },
  {
   "cell_type": "raw",
   "id": "63ca8446",
   "metadata": {},
   "source": [
    "5) What method would you call to get Image object for a 100×100 image, excluding the lower-left quarter of it?"
   ]
  },
  {
   "cell_type": "code",
   "execution_count": 15,
   "id": "479ff607",
   "metadata": {},
   "outputs": [],
   "source": [
    "from PIL import Image\n",
    "img = Image.open(r'NameImage.png')\n",
    "Myimg = img.crop((0,50,50,50))"
   ]
  },
  {
   "cell_type": "raw",
   "id": "aadf63ef",
   "metadata": {},
   "source": [
    "6) After making changes to an Image object, how could you save it as an image file?"
   ]
  },
  {
   "cell_type": "code",
   "execution_count": 19,
   "id": "0c8fdae7",
   "metadata": {},
   "outputs": [],
   "source": [
    "#Example \n",
    "from PIL import Image\n",
    "myImg = Image.open(r'NameImage.png')\n",
    "myImg.save('img.png')"
   ]
  },
  {
   "cell_type": "raw",
   "id": "9e55a9fe",
   "metadata": {},
   "source": [
    "7) What module contains Pillow’s shape-drawing code?\n",
    "Ans--> Pillows ImageDraw module contains Shape drawing methods"
   ]
  },
  {
   "cell_type": "raw",
   "id": "909deb6a",
   "metadata": {},
   "source": [
    "8) Image objects do not have drawing methods. What kind of object does? How do you get this kind of object?\n",
    "Ans--> ImageDraw objects have shape-drawing methods such as point(), line(), or rectangle().They are returned by           passing the Image object to the ImageDraw.Draw() function."
   ]
  },
  {
   "cell_type": "code",
   "execution_count": null,
   "id": "704b0da2",
   "metadata": {},
   "outputs": [],
   "source": []
  }
 ],
 "metadata": {
  "kernelspec": {
   "display_name": "Python 3",
   "language": "python",
   "name": "python3"
  },
  "language_info": {
   "codemirror_mode": {
    "name": "ipython",
    "version": 3
   },
   "file_extension": ".py",
   "mimetype": "text/x-python",
   "name": "python",
   "nbconvert_exporter": "python",
   "pygments_lexer": "ipython3",
   "version": "3.8.8"
  }
 },
 "nbformat": 4,
 "nbformat_minor": 5
}
