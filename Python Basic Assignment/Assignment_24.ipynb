{
 "cells": [
  {
   "cell_type": "markdown",
   "id": "a0081827",
   "metadata": {},
   "source": [
    "1. What is the relationship between def statements and lambda expressions ? <br>\n",
    " def statement is used to create a normal function, where as lamba expressions are used to create Anonymous functions which can be assigned to a variable and can be called using the variable later in function.<br>\n",
    " For example <br>\n",
    " numerical_feature = [feature for feature in df.columns if feature!='O']"
   ]
  },
  {
   "cell_type": "markdown",
   "id": "512d73c2",
   "metadata": {},
   "source": [
    "2. What is the benefit of lambda? <br>\n",
    "a)Can be created in a single line.<br>\n",
    "b)Can be assigned to variable hence multiple lambda expression can be created.<br>\n",
    "c) nameless function easier to handle<br>"
   ]
  },
  {
   "cell_type": "markdown",
   "id": "58174acd",
   "metadata": {},
   "source": [
    "3)Compare and contrast map, filter, and reduce.<br>\n",
    "map():This function takes another function as a parameter along with a sequence of iterables and returns an output    after applying the function to each iterable present in the sequence.<br>\n",
    "filter(): The filter() function is used to create an output list consisting of values for which the function returns true.<br>\n",
    "reduce(): The reduce() function, as the name describes, applies a given function to the iterables and returns a single value<br>\n"
   ]
  },
  {
   "cell_type": "code",
   "execution_count": 7,
   "id": "fde356a3",
   "metadata": {},
   "outputs": [
    {
     "name": "stdout",
     "output_type": "stream",
     "text": [
      "Map even -> [False, True, False, True, False, True, False, True, False]\n",
      "Filter even-> [2, 4, 6, 8]\n",
      "Reduce -> 9\n"
     ]
    }
   ],
   "source": [
    "from functools import reduce\n",
    "\n",
    "num = 1,2,3,4,5,6,7,8,9\n",
    "print('Map even ->',list(map(lambda num:num%2==0, num)))\n",
    "\n",
    "print('Filter even->',list(filter(lambda num:num%2==0, num)))\n",
    "\n",
    "print('Reduce  greatest ->',reduce(lambda x,y:y if x<y else x, num))\n",
    "\n"
   ]
  },
  {
   "cell_type": "markdown",
   "id": "3a0200de",
   "metadata": {},
   "source": [
    "4. What are function annotations, and how are they used?<br>\n",
    "Function annotations provide a way of associating various parts of a function with arbitrary python expressions at compile time.<br>\n",
    " def nameOfFunction(paramter1,parameter2,....,parameterN): <br>\n",
    "                pass\n",
    " def myFunction(**args,**kwargs ): <br>\n",
    "              pass"
   ]
  },
  {
   "cell_type": "markdown",
   "id": "762d475f",
   "metadata": {},
   "source": [
    " 5)What are recursive functions, and how are they used?<br>\n",
    " A function that calls itself during its execution is called recursive functio wher the process may repeat several times and finally output is printed or appended.\n",
    "    "
   ]
  },
  {
   "cell_type": "markdown",
   "id": "07ad122a",
   "metadata": {},
   "source": [
    "6) What are some general design guidelines for coding functions? <br>\n",
    "   The general guidlines for coding are <br>\n",
    "    a)Proper Identation to increase the code readability<br>\n",
    "    b)Constant should be represented in allcaps <br>\n",
    "    c)Always use a docstring to explain the functionality of the function <br>\n",
    "    d)try to follow a naming convention for function names i.e CamelCase <br>\n",
    "    e)Local variables should be named using camelCase format .<br>\n",
    "    f)try to use a name for the function which conveys the purpose of the function<br>\n",
    "    g)Avoid using digits while choosing a variable name <br>\n",
    "    h)avoid using or limited use of global variables <br>\n"
   ]
  },
  {
   "cell_type": "markdown",
   "id": "70c53940",
   "metadata": {},
   "source": [
    "7)Name three or more ways that functions can communicate results to a caller.<br>\n",
    " Three or more ways that functions can communicate results to a caller are :- <br>\n",
    "    print <br>\n",
    "    return <br>\n",
    "    yield <br>\n"
   ]
  },
  {
   "cell_type": "code",
   "execution_count": null,
   "id": "1a756c2d",
   "metadata": {},
   "outputs": [],
   "source": []
  }
 ],
 "metadata": {
  "kernelspec": {
   "display_name": "Python 3",
   "language": "python",
   "name": "python3"
  },
  "language_info": {
   "codemirror_mode": {
    "name": "ipython",
    "version": 3
   },
   "file_extension": ".py",
   "mimetype": "text/x-python",
   "name": "python",
   "nbconvert_exporter": "python",
   "pygments_lexer": "ipython3",
   "version": "3.8.8"
  }
 },
 "nbformat": 4,
 "nbformat_minor": 5
}
