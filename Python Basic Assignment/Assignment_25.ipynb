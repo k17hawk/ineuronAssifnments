{
 "cells": [
  {
   "cell_type": "markdown",
   "id": "ea3b14c5",
   "metadata": {},
   "source": [
    "1)What is the difference between enclosing a list comprehension in square brackets and parentheses? <br>\n",
    "Enclosing a list comprehension in square brackets returns a list.but where as enclosing a list comprehension in parentheses returns object where memory is not initialize."
   ]
  },
  {
   "cell_type": "markdown",
   "id": "1bd8bd14",
   "metadata": {},
   "source": [
    "2) What is the relationship between generators and iterators? <br>\n",
    " An **iterator is an object which contains a countable number of values and it is used to iterate over iterable objects like list, tuples, sets, etc. Iterators are sequentially iterated using Next.<br>\n",
    " \n",
    "Generators are an another way of creating iterators in a simple way where it uses the keyword yield statement instead of return statement in a defined function.It is RAM saving techniques"
   ]
  },
  {
   "cell_type": "markdown",
   "id": "acdff2c9",
   "metadata": {},
   "source": [
    "3) What are the signs that a function is a generator function?<br>\n",
    "A generator function uses a yield statement instead of a return statement. A generator function will always return a iterable object called generator.\n"
   ]
  },
  {
   "cell_type": "markdown",
   "id": "33444209",
   "metadata": {},
   "source": [
    "4) What is the purpose of a yield statement? <br>\n",
    " It is generator-based version of the return keyword which return from a function without destroying the states of its local variable   "
   ]
  },
  {
   "cell_type": "markdown",
   "id": "d87fdf4b",
   "metadata": {},
   "source": [
    "What is the relationship between map calls and list comprehensions? Make a comparison and contrast between the two ? <br>\n",
    "The main differences between map calls and list comprehensiosn are:<br>\n",
    "List comprehension is more concise and easier to read as compared to map.<br>\n",
    "List comprehension allows filtering. In map, we have no such facility. <br>\n",
    "There is no alternate for it in map<br>\n",
    "List comprehension is faster than map when we need to evaluate expressions that are too long or complicated to express<br>\n",
    "Map is faster in case of calling an already defined function on a set of values.<br>\n"
   ]
  },
  {
   "cell_type": "code",
   "execution_count": null,
   "id": "f552b5ed",
   "metadata": {},
   "outputs": [],
   "source": []
  }
 ],
 "metadata": {
  "kernelspec": {
   "display_name": "Python 3",
   "language": "python",
   "name": "python3"
  },
  "language_info": {
   "codemirror_mode": {
    "name": "ipython",
    "version": 3
   },
   "file_extension": ".py",
   "mimetype": "text/x-python",
   "name": "python",
   "nbconvert_exporter": "python",
   "pygments_lexer": "ipython3",
   "version": "3.8.8"
  }
 },
 "nbformat": 4,
 "nbformat_minor": 5
}
