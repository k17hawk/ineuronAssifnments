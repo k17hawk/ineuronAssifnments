{
 "cells": [
  {
   "cell_type": "markdown",
   "id": "1b7510bb",
   "metadata": {},
   "source": [
    "                     Assignment_13\n",
    "    "
   ]
  },
  {
   "cell_type": "markdown",
   "id": "66cf5849",
   "metadata": {},
   "source": [
    "1) What advantages do Excel spreadsheets have over CSV spreadsheets?\n"
   ]
  },
  {
   "cell_type": "markdown",
   "id": "e01054ce",
   "metadata": {},
   "source": [
    "Ans--> The advantages are-:\n",
    "    a) Excel (XLS and XLSX) file formats are better for storing and analysing complex data.\n",
    "    b) An Excel not only stores data but can also do operations on the data using macros, formulas etc\n",
    "    c) CSV files are plain-text files, Does not contain formatting, formulas, macros, etc. It is also known as              flat files"
   ]
  },
  {
   "cell_type": "markdown",
   "id": "f757fbbb",
   "metadata": {},
   "source": [
    "2) What do you pass to csv.reader() and csv.writer() to create reader and writer objects?\n"
   ]
  },
  {
   "cell_type": "markdown",
   "id": "f3cb2550",
   "metadata": {},
   "source": [
    " Ans:-> You pass a File object, obtained from a call to open()."
   ]
  },
  {
   "cell_type": "markdown",
   "id": "591018fe",
   "metadata": {},
   "source": [
    "3) What modes do File objects for reader and writer objects need to be opened in?\n"
   ]
  },
  {
   "cell_type": "markdown",
   "id": "ceacc15a",
   "metadata": {},
   "source": [
    "Ans--> File objects need to be opened in read-binary ('rb') for Reader objects and write-binary ('wb') for Writer        objects."
   ]
  },
  {
   "cell_type": "markdown",
   "id": "7079288d",
   "metadata": {},
   "source": [
    "4) What method takes a list argument and writes it to a CSV file?\n"
   ]
  },
  {
   "cell_type": "markdown",
   "id": "3f13cfb5",
   "metadata": {},
   "source": [
    "Ans--> The writerow() method takes a list argument and writes it to a CSV file."
   ]
  },
  {
   "cell_type": "markdown",
   "id": "ac14829a",
   "metadata": {},
   "source": [
    "5) What do the keyword arguments delimiter and line terminator do?\n"
   ]
  },
  {
   "cell_type": "markdown",
   "id": "3e5a9140",
   "metadata": {},
   "source": [
    "  Ans--> The delimiter argument changes the string used to separate cells in a row. The line terminator argument            changes the string used to separate rows."
   ]
  },
  {
   "cell_type": "markdown",
   "id": "b7de2a4a",
   "metadata": {},
   "source": [
    " 6) What function takes a string of JSON data and returns a Python data structure?\n",
    "    "
   ]
  },
  {
   "cell_type": "markdown",
   "id": "6ff1b498",
   "metadata": {},
   "source": [
    "Ans--> json.loads() method takes a string of JSON data and returns a Python data structure."
   ]
  },
  {
   "cell_type": "markdown",
   "id": "3f92f45e",
   "metadata": {},
   "source": [
    "7) What function takes a Python data structure and returns a string of JSON data?\n",
    "  "
   ]
  },
  {
   "cell_type": "markdown",
   "id": "9861b151",
   "metadata": {},
   "source": [
    "Ans--> json.dumps() method takes a string of JSON data and returns a string of JSON data."
   ]
  },
  {
   "cell_type": "code",
   "execution_count": null,
   "id": "880f0599",
   "metadata": {},
   "outputs": [],
   "source": []
  }
 ],
 "metadata": {
  "kernelspec": {
   "display_name": "Python 3",
   "language": "python",
   "name": "python3"
  },
  "language_info": {
   "codemirror_mode": {
    "name": "ipython",
    "version": 3
   },
   "file_extension": ".py",
   "mimetype": "text/x-python",
   "name": "python",
   "nbconvert_exporter": "python",
   "pygments_lexer": "ipython3",
   "version": "3.8.8"
  }
 },
 "nbformat": 4,
 "nbformat_minor": 5
}
