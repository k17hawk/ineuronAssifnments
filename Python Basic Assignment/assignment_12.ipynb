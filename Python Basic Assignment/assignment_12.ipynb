{
 "cells": [
  {
   "cell_type": "raw",
   "id": "932dee6c",
   "metadata": {},
   "source": [
    "                                Assignment_12"
   ]
  },
  {
   "cell_type": "raw",
   "id": "dfdf656c",
   "metadata": {},
   "source": [
    "1) In what modes should the PdfFileReader() and PdfFileWriter() File objects will be opened?\n",
    "Ans--> PdfFileReader() file objects should be opened in rb read binary mode, Whereas for PdfFileWriter() file            objects should be opened in wb write binary mode."
   ]
  },
  {
   "cell_type": "raw",
   "id": "cd110e75",
   "metadata": {},
   "source": [
    "2) From a PdfFileReader object, how do you get a Page object for page 5?\n",
    "Ans--> PdfFileReader class provides a method called getPage(page_no) to get a page object."
   ]
  },
  {
   "cell_type": "code",
   "execution_count": null,
   "id": "97489e71",
   "metadata": {},
   "outputs": [],
   "source": [
    "#for example\n",
    "from PyPDF2 import PdfFileReader\n",
    "pdf_reader = PdfFileReader(file_path)\n",
    "for page in pdf_reader.getNumPages():\n",
    "    pdf_reader.getPage(page)"
   ]
  },
  {
   "cell_type": "raw",
   "id": "00e98391",
   "metadata": {},
   "source": [
    "3) What PdfFileReader variable stores the number of pages in the PDF document?\n",
    " Ans--> getNumPages() method of PdfFileReader class stores the no pages in a PDF document"
   ]
  },
  {
   "cell_type": "raw",
   "id": "c7a3dfac",
   "metadata": {},
   "source": [
    "4) If a PdfFileReader object’s PDF is encrypted with the password swordfish, what must you do before you can obtain Page objects from it?\n",
    "  Ans-->First read the Pdf using the PdfFileReader Class. PdfFileReader class provides a attribute called             isEncrypted to check whether a pdf is encrypted or not, the method returns true if a pdf is encrypted.if pdf       is encrypted use the decrypt() method with password provided then read the pages of the pdf, \n",
    "    else it  will raise  error of \n",
    "             PyPDF2.utils.PdfReadError: file has not been decrypted"
   ]
  },
  {
   "cell_type": "code",
   "execution_count": null,
   "id": "fd40ed67",
   "metadata": {},
   "outputs": [],
   "source": [
    "#Code:\n",
    "from PyPDF2 import PdfFileReader\n",
    "pdf_reader = PdfFileReader(file_path)\n",
    "if pdf_reader.isEncrypted: # check if encrypted\n",
    "    pdf_reader.decrypt(\"swordfish\")\n",
    "for page in pdf_reader.pages:\n",
    "    print(page.extractText()) "
   ]
  },
  {
   "cell_type": "raw",
   "id": "7d2e20bb",
   "metadata": {},
   "source": [
    "5) What methods do you use to rotate a page?\n",
    "Ans--> There are  2 methods to rotate a page:\n",
    "\n",
    "        rotateClockWise() #For Clockwise rotation\n",
    "        rotateCounterClockWise()  #For Counter Clockwise rotation\n",
    "        The PyPDF2 package only allows to rotate a page in increments of 90 degrees. \n",
    "        You will receive an AssertionError otherwise."
   ]
  },
  {
   "cell_type": "raw",
   "id": "80e26280",
   "metadata": {},
   "source": [
    "6) What is the difference between a Run object and a Paragraph object?\n",
    "    Ans: The structure of a document is represented by three different data types in python-Docx. \n",
    "        At the highest level, a Document object represents the entire document. The Document object \n",
    "        contains a list of Paragraph objects for the paragraphs in the document where new paragraph begins when           user hit enter or return while typing in a Word document.\n",
    "        Each of these Paragraph objects contains a list of one or more Run objects.\n",
    "        \n",
    "       The text in a Word document is more than just a string. It has font, size, color, and other\n",
    "       styling information associated with it. A style in Word is a collection of these attributes. \n",
    "       A Run object is a neighbouring run of text with the same style. A new Run object is needed whenever\n",
    "       the text style changes."
   ]
  },
  {
   "cell_type": "raw",
   "id": "cf8ade57",
   "metadata": {},
   "source": [
    "7) How do you obtain a list of Paragraph objects for a Document object that’s stored in a variable named doc?\n",
    "  Ans--> Is obtained as shown in code"
   ]
  },
  {
   "cell_type": "code",
   "execution_count": null,
   "id": "ddf48cfb",
   "metadata": {},
   "outputs": [],
   "source": [
    "#example\n",
    "from docx import Document\n",
    "doc = Document(\"doc.docx\") # Path of file \n",
    "print(doc.paragraphs) # Prints the list of Paragraph objects for a Document object\n",
    "for list in doc.paragraphs:\n",
    "    print(list) # Prints a text in Paragraph objects "
   ]
  },
  {
   "cell_type": "raw",
   "id": "1cc146ac",
   "metadata": {},
   "source": [
    "8) What type of object has bold, underline, italic, strike, and outline variables?\n",
    "   Ans--> Run object has bold, underline, italic, strike, and outline variables. "
   ]
  },
  {
   "cell_type": "raw",
   "id": "e1d626c3",
   "metadata": {},
   "source": [
    "9) What is the difference between False, True, and None for the bold variable?\n",
    "  Ans--> bold = True  # Style Set to Bold\n",
    "         bold = False # Style is Not set to Bold\n",
    "         bold = None # Style is Not Applicable"
   ]
  },
  {
   "cell_type": "raw",
   "id": "65787bfc",
   "metadata": {},
   "source": [
    "10)  How do you create a Document object for a new Word document?\n",
    "  Ans--> By using Document.add_paragraph() and saving it ."
   ]
  },
  {
   "cell_type": "code",
   "execution_count": null,
   "id": "2886185b",
   "metadata": {},
   "outputs": [],
   "source": [
    "#code\n",
    "from docx import Document\n",
    "document = Document()\n",
    "document.add_paragraph(\"Welcome to New Docx\")\n",
    "document.save('NewName.docx')"
   ]
  },
  {
   "cell_type": "raw",
   "id": "92ac3029",
   "metadata": {},
   "source": [
    "11)How do you add a paragraph with the text 'Hello, there!' to a Document object stored in a variable named doc?"
   ]
  },
  {
   "cell_type": "code",
   "execution_count": null,
   "id": "b06f5866",
   "metadata": {},
   "outputs": [],
   "source": [
    "from docx import Document\n",
    "document = Document()\n",
    "document.add_paragraph('Hello, there!')\n",
    "document.save('NewName.docx')"
   ]
  },
  {
   "cell_type": "raw",
   "id": "e2a9f365",
   "metadata": {},
   "source": [
    "12) What integers represent the levels of headings available in Word documents?\n",
    "Ans--> The levels for a heading in a word document can be specified by using the level attribute inside \n",
    "       the add_heading method. There are a total of 5 levels statring for 0 t0 4. where level 0 makes a headline          with the horizontal line below the text, whereas the heading level 1 is the main heading. Similarly, the          other headings are sub-heading with their's font-sizes in decreasing order."
   ]
  },
  {
   "cell_type": "code",
   "execution_count": null,
   "id": "bc502b84",
   "metadata": {},
   "outputs": [],
   "source": []
  }
 ],
 "metadata": {
  "kernelspec": {
   "display_name": "Python 3",
   "language": "python",
   "name": "python3"
  },
  "language_info": {
   "codemirror_mode": {
    "name": "ipython",
    "version": 3
   },
   "file_extension": ".py",
   "mimetype": "text/x-python",
   "name": "python",
   "nbconvert_exporter": "python",
   "pygments_lexer": "ipython3",
   "version": "3.8.8"
  }
 },
 "nbformat": 4,
 "nbformat_minor": 5
}
